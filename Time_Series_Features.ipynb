{
 "cells": [
  {
   "cell_type": "code",
   "execution_count": 2,
   "id": "initial_id",
   "metadata": {
    "collapsed": true,
    "ExecuteTime": {
     "end_time": "2024-03-27T17:15:21.173460Z",
     "start_time": "2024-03-27T17:15:20.463038Z"
    }
   },
   "outputs": [],
   "source": [
    "import pandas as pd\n",
    "import numpy as np\n",
    "import matplotlib.pyplot as plt"
   ]
  },
  {
   "cell_type": "code",
   "outputs": [],
   "source": [
    "import os\n",
    "\n",
    "directory = os.listdir('data') # get the list of directories\n",
    "inpDf = pd.DataFrame() # create an empty dataframe\n",
    "for _ in directory:\n",
    "    for j in os.listdir('data/' + _): # get the list of files in the directory\n",
    "        data = pd.read_csv('data/' + _ + '/' + j) # read the file\n",
    "        data['type'] = _\n",
    "        inpDf = pd.concat([inpDf, data]) # concatenate the data to the dataframe"
   ],
   "metadata": {
    "collapsed": false,
    "ExecuteTime": {
     "end_time": "2024-03-27T17:15:30.643976Z",
     "start_time": "2024-03-27T17:15:22.062067Z"
    }
   },
   "id": "fe7523d31e7296ef",
   "execution_count": 3
  },
  {
   "cell_type": "code",
   "outputs": [
    {
     "data": {
      "text/plain": "        accelerometer_X  accelerometer_Y  accelerometer_Z     type\n0              1.757344        -5.875371        -3.878607  running\n1              2.461239        12.986150         1.762132  running\n2             22.682667        22.922087        -1.738190  running\n3             11.875240         4.611233        -8.389283  running\n4             -5.295974         4.783615        -1.273715  running\n...                 ...              ...              ...      ...\n193855        -4.137180        -4.429273        -1.517924   stairs\n193856         1.829170        -9.313444        -0.330400   stairs\n193857        -7.350199       -12.670115        -1.460463   stairs\n193858         3.969586        -6.320692         9.255983   stairs\n193859         1.747767         2.920926         7.910443   stairs\n\n[193860 rows x 4 columns]",
      "text/html": "<div>\n<style scoped>\n    .dataframe tbody tr th:only-of-type {\n        vertical-align: middle;\n    }\n\n    .dataframe tbody tr th {\n        vertical-align: top;\n    }\n\n    .dataframe thead th {\n        text-align: right;\n    }\n</style>\n<table border=\"1\" class=\"dataframe\">\n  <thead>\n    <tr style=\"text-align: right;\">\n      <th></th>\n      <th>accelerometer_X</th>\n      <th>accelerometer_Y</th>\n      <th>accelerometer_Z</th>\n      <th>type</th>\n    </tr>\n  </thead>\n  <tbody>\n    <tr>\n      <th>0</th>\n      <td>1.757344</td>\n      <td>-5.875371</td>\n      <td>-3.878607</td>\n      <td>running</td>\n    </tr>\n    <tr>\n      <th>1</th>\n      <td>2.461239</td>\n      <td>12.986150</td>\n      <td>1.762132</td>\n      <td>running</td>\n    </tr>\n    <tr>\n      <th>2</th>\n      <td>22.682667</td>\n      <td>22.922087</td>\n      <td>-1.738190</td>\n      <td>running</td>\n    </tr>\n    <tr>\n      <th>3</th>\n      <td>11.875240</td>\n      <td>4.611233</td>\n      <td>-8.389283</td>\n      <td>running</td>\n    </tr>\n    <tr>\n      <th>4</th>\n      <td>-5.295974</td>\n      <td>4.783615</td>\n      <td>-1.273715</td>\n      <td>running</td>\n    </tr>\n    <tr>\n      <th>...</th>\n      <td>...</td>\n      <td>...</td>\n      <td>...</td>\n      <td>...</td>\n    </tr>\n    <tr>\n      <th>193855</th>\n      <td>-4.137180</td>\n      <td>-4.429273</td>\n      <td>-1.517924</td>\n      <td>stairs</td>\n    </tr>\n    <tr>\n      <th>193856</th>\n      <td>1.829170</td>\n      <td>-9.313444</td>\n      <td>-0.330400</td>\n      <td>stairs</td>\n    </tr>\n    <tr>\n      <th>193857</th>\n      <td>-7.350199</td>\n      <td>-12.670115</td>\n      <td>-1.460463</td>\n      <td>stairs</td>\n    </tr>\n    <tr>\n      <th>193858</th>\n      <td>3.969586</td>\n      <td>-6.320692</td>\n      <td>9.255983</td>\n      <td>stairs</td>\n    </tr>\n    <tr>\n      <th>193859</th>\n      <td>1.747767</td>\n      <td>2.920926</td>\n      <td>7.910443</td>\n      <td>stairs</td>\n    </tr>\n  </tbody>\n</table>\n<p>193860 rows × 4 columns</p>\n</div>"
     },
     "execution_count": 4,
     "metadata": {},
     "output_type": "execute_result"
    }
   ],
   "source": [
    "inpDf.reset_index(drop=True, inplace=True) # reset the index\n",
    "inpDf"
   ],
   "metadata": {
    "collapsed": false,
    "ExecuteTime": {
     "end_time": "2024-03-27T17:15:32.365760Z",
     "start_time": "2024-03-27T17:15:32.351291Z"
    }
   },
   "id": "bb913e8b8a47016f",
   "execution_count": 4
  },
  {
   "cell_type": "code",
   "outputs": [],
   "source": [
    "from sklearn.preprocessing import StandardScaler\n",
    "scaler = StandardScaler() # create a standard scaler object\n",
    "normalised_data = inpDf.copy() # create a copy of the dataframe\n",
    "scaler.fit(normalised_data[['accelerometer_X', 'accelerometer_Y', 'accelerometer_Z']]) # fit the scaler object\n",
    "normalised_data[['accelerometer_X', 'accelerometer_Y', 'accelerometer_Z']] = scaler.transform(normalised_data[['accelerometer_X', 'accelerometer_Y', 'accelerometer_Z']]) # transform the data"
   ],
   "metadata": {
    "collapsed": false,
    "ExecuteTime": {
     "end_time": "2024-03-27T17:15:34.665730Z",
     "start_time": "2024-03-27T17:15:34.633703Z"
    }
   },
   "id": "6051da910e85ba95",
   "execution_count": 5
  },
  {
   "cell_type": "code",
   "outputs": [
    {
     "data": {
      "text/plain": "        accelerometer_X  accelerometer_Y  accelerometer_Z     type\n0             -0.019775        -0.599143        -0.790301  running\n1              0.063974         0.912923        -0.005946  running\n2              2.469899         1.709454        -0.492672  running\n3              1.184042         0.241533        -1.417518  running\n4             -0.858972         0.255353        -0.428086  running\n...                 ...              ...              ...      ...\n193855        -0.721099        -0.483214        -0.462044   stairs\n193856        -0.011229        -0.874762        -0.296916   stairs\n193857        -1.103381        -1.143855        -0.454054   stairs\n193858         0.243435        -0.634843         1.036086   stairs\n193859        -0.020914         0.106027         0.848986   stairs\n\n[193860 rows x 4 columns]",
      "text/html": "<div>\n<style scoped>\n    .dataframe tbody tr th:only-of-type {\n        vertical-align: middle;\n    }\n\n    .dataframe tbody tr th {\n        vertical-align: top;\n    }\n\n    .dataframe thead th {\n        text-align: right;\n    }\n</style>\n<table border=\"1\" class=\"dataframe\">\n  <thead>\n    <tr style=\"text-align: right;\">\n      <th></th>\n      <th>accelerometer_X</th>\n      <th>accelerometer_Y</th>\n      <th>accelerometer_Z</th>\n      <th>type</th>\n    </tr>\n  </thead>\n  <tbody>\n    <tr>\n      <th>0</th>\n      <td>-0.019775</td>\n      <td>-0.599143</td>\n      <td>-0.790301</td>\n      <td>running</td>\n    </tr>\n    <tr>\n      <th>1</th>\n      <td>0.063974</td>\n      <td>0.912923</td>\n      <td>-0.005946</td>\n      <td>running</td>\n    </tr>\n    <tr>\n      <th>2</th>\n      <td>2.469899</td>\n      <td>1.709454</td>\n      <td>-0.492672</td>\n      <td>running</td>\n    </tr>\n    <tr>\n      <th>3</th>\n      <td>1.184042</td>\n      <td>0.241533</td>\n      <td>-1.417518</td>\n      <td>running</td>\n    </tr>\n    <tr>\n      <th>4</th>\n      <td>-0.858972</td>\n      <td>0.255353</td>\n      <td>-0.428086</td>\n      <td>running</td>\n    </tr>\n    <tr>\n      <th>...</th>\n      <td>...</td>\n      <td>...</td>\n      <td>...</td>\n      <td>...</td>\n    </tr>\n    <tr>\n      <th>193855</th>\n      <td>-0.721099</td>\n      <td>-0.483214</td>\n      <td>-0.462044</td>\n      <td>stairs</td>\n    </tr>\n    <tr>\n      <th>193856</th>\n      <td>-0.011229</td>\n      <td>-0.874762</td>\n      <td>-0.296916</td>\n      <td>stairs</td>\n    </tr>\n    <tr>\n      <th>193857</th>\n      <td>-1.103381</td>\n      <td>-1.143855</td>\n      <td>-0.454054</td>\n      <td>stairs</td>\n    </tr>\n    <tr>\n      <th>193858</th>\n      <td>0.243435</td>\n      <td>-0.634843</td>\n      <td>1.036086</td>\n      <td>stairs</td>\n    </tr>\n    <tr>\n      <th>193859</th>\n      <td>-0.020914</td>\n      <td>0.106027</td>\n      <td>0.848986</td>\n      <td>stairs</td>\n    </tr>\n  </tbody>\n</table>\n<p>193860 rows × 4 columns</p>\n</div>"
     },
     "execution_count": 6,
     "metadata": {},
     "output_type": "execute_result"
    }
   ],
   "source": [
    "normalised_data"
   ],
   "metadata": {
    "collapsed": false,
    "ExecuteTime": {
     "end_time": "2024-03-27T17:15:36.627131Z",
     "start_time": "2024-03-27T17:15:36.617424Z"
    }
   },
   "id": "92d82b45f312bf81",
   "execution_count": 6
  },
  {
   "cell_type": "code",
   "outputs": [
    {
     "data": {
      "text/plain": "193860"
     },
     "execution_count": 7,
     "metadata": {},
     "output_type": "execute_result"
    }
   ],
   "source": [
    "len(normalised_data)"
   ],
   "metadata": {
    "collapsed": false,
    "ExecuteTime": {
     "end_time": "2024-03-27T17:15:39.194144Z",
     "start_time": "2024-03-27T17:15:39.187746Z"
    }
   },
   "id": "37902be11d424336",
   "execution_count": 7
  },
  {
   "cell_type": "code",
   "outputs": [
    {
     "data": {
      "text/plain": "        mean_X     std_X  median_X     max_X     min_X   range_X     25%_X  \\\n0     0.370787  1.224754  0.210392  4.315789 -4.891445  9.207234 -0.313750   \n1     0.096675  1.288898  0.077647  4.315789 -4.891445  9.207234 -0.749158   \n2     0.260226  1.152578  0.207258  3.207685 -3.466008  6.673693 -0.579239   \n3     0.546063  1.022021  0.370483  3.510776 -1.073186  4.583962 -0.184281   \n4     0.602542  1.107749  0.370483  4.247423 -1.256636  5.504059 -0.257633   \n...        ...       ...       ...       ...       ...       ...       ...   \n1858 -0.412887  0.456655 -0.442222  0.846198 -1.565993  2.412192 -0.688625   \n1859 -0.410805  0.463398 -0.428264  0.846198 -1.565993  2.412192 -0.690904   \n1860 -0.436919  0.463782 -0.428264  0.770426 -1.565993  2.336419 -0.743319   \n1861 -0.324389  0.450124 -0.290107  0.770426 -1.565993  2.336419 -0.586646   \n1862 -0.351264  0.448071 -0.358188  0.470753 -1.565993  2.036747 -0.613423   \n\n         75%_X    mean_Y     std_Y  ...     75%_Y    mean_Z     std_Z  \\\n0     0.959430  0.572162  0.976348  ...  1.237485 -0.158275  0.977193   \n1     0.661040  0.535580  1.065825  ...  1.300344 -0.118882  0.930535   \n2     0.834662  0.513519  1.005835  ...  1.153418 -0.051479  0.933322   \n3     1.120376  0.559950  0.862563  ...  1.126739  0.057030  0.934260   \n4     1.126358  0.549307  0.924195  ...  1.143053  0.026804  1.045175   \n...        ...       ...       ...  ...       ...       ...       ...   \n1858 -0.065922 -0.970137  0.442793  ... -0.677740 -0.558254  0.669643   \n1859 -0.030600 -0.998431  0.461903  ... -0.680044 -0.546538  0.676565   \n1860 -0.110930 -0.882478  0.392258  ... -0.654036 -0.508934  0.652899   \n1861  0.066253 -0.951139  0.431782  ... -0.682059 -0.559035  0.795416   \n1862  0.044318 -0.984409  0.442848  ... -0.719294 -0.573968  0.740208   \n\n      median_Z     max_Z     min_Z   range_Z     25%_Z     75%_Z     type  \n0    -0.337865  4.075625 -3.313817  7.389442 -0.736867  0.317983  running  \n1    -0.255635  4.075625 -2.708573  6.784198 -0.673779  0.313655  running  \n2    -0.174070  2.721981 -2.708573  5.430554 -0.651141  0.387230  running  \n3    -0.107819  2.807874 -1.755762  4.563636 -0.573904  0.427180  running  \n4    -0.136450  4.827353 -1.755762  6.583115 -0.642818  0.523393  running  \n...        ...       ...       ...       ...       ...       ...      ...  \n1858 -0.481353  1.503503 -3.898420  5.401923 -0.779814 -0.209858   stairs  \n1859 -0.471365  1.503503 -3.402373  4.905876 -0.729710 -0.177066   stairs  \n1860 -0.447728  1.553440 -3.898420  5.451861 -0.709901 -0.226837   stairs  \n1861 -0.458049  1.553440 -3.898420  5.451861 -0.778981 -0.182393   stairs  \n1862 -0.464041  1.003460 -3.402373  4.405833 -0.754345 -0.182393   stairs  \n\n[1863 rows x 25 columns]",
      "text/html": "<div>\n<style scoped>\n    .dataframe tbody tr th:only-of-type {\n        vertical-align: middle;\n    }\n\n    .dataframe tbody tr th {\n        vertical-align: top;\n    }\n\n    .dataframe thead th {\n        text-align: right;\n    }\n</style>\n<table border=\"1\" class=\"dataframe\">\n  <thead>\n    <tr style=\"text-align: right;\">\n      <th></th>\n      <th>mean_X</th>\n      <th>std_X</th>\n      <th>median_X</th>\n      <th>max_X</th>\n      <th>min_X</th>\n      <th>range_X</th>\n      <th>25%_X</th>\n      <th>75%_X</th>\n      <th>mean_Y</th>\n      <th>std_Y</th>\n      <th>...</th>\n      <th>75%_Y</th>\n      <th>mean_Z</th>\n      <th>std_Z</th>\n      <th>median_Z</th>\n      <th>max_Z</th>\n      <th>min_Z</th>\n      <th>range_Z</th>\n      <th>25%_Z</th>\n      <th>75%_Z</th>\n      <th>type</th>\n    </tr>\n  </thead>\n  <tbody>\n    <tr>\n      <th>0</th>\n      <td>0.370787</td>\n      <td>1.224754</td>\n      <td>0.210392</td>\n      <td>4.315789</td>\n      <td>-4.891445</td>\n      <td>9.207234</td>\n      <td>-0.313750</td>\n      <td>0.959430</td>\n      <td>0.572162</td>\n      <td>0.976348</td>\n      <td>...</td>\n      <td>1.237485</td>\n      <td>-0.158275</td>\n      <td>0.977193</td>\n      <td>-0.337865</td>\n      <td>4.075625</td>\n      <td>-3.313817</td>\n      <td>7.389442</td>\n      <td>-0.736867</td>\n      <td>0.317983</td>\n      <td>running</td>\n    </tr>\n    <tr>\n      <th>1</th>\n      <td>0.096675</td>\n      <td>1.288898</td>\n      <td>0.077647</td>\n      <td>4.315789</td>\n      <td>-4.891445</td>\n      <td>9.207234</td>\n      <td>-0.749158</td>\n      <td>0.661040</td>\n      <td>0.535580</td>\n      <td>1.065825</td>\n      <td>...</td>\n      <td>1.300344</td>\n      <td>-0.118882</td>\n      <td>0.930535</td>\n      <td>-0.255635</td>\n      <td>4.075625</td>\n      <td>-2.708573</td>\n      <td>6.784198</td>\n      <td>-0.673779</td>\n      <td>0.313655</td>\n      <td>running</td>\n    </tr>\n    <tr>\n      <th>2</th>\n      <td>0.260226</td>\n      <td>1.152578</td>\n      <td>0.207258</td>\n      <td>3.207685</td>\n      <td>-3.466008</td>\n      <td>6.673693</td>\n      <td>-0.579239</td>\n      <td>0.834662</td>\n      <td>0.513519</td>\n      <td>1.005835</td>\n      <td>...</td>\n      <td>1.153418</td>\n      <td>-0.051479</td>\n      <td>0.933322</td>\n      <td>-0.174070</td>\n      <td>2.721981</td>\n      <td>-2.708573</td>\n      <td>5.430554</td>\n      <td>-0.651141</td>\n      <td>0.387230</td>\n      <td>running</td>\n    </tr>\n    <tr>\n      <th>3</th>\n      <td>0.546063</td>\n      <td>1.022021</td>\n      <td>0.370483</td>\n      <td>3.510776</td>\n      <td>-1.073186</td>\n      <td>4.583962</td>\n      <td>-0.184281</td>\n      <td>1.120376</td>\n      <td>0.559950</td>\n      <td>0.862563</td>\n      <td>...</td>\n      <td>1.126739</td>\n      <td>0.057030</td>\n      <td>0.934260</td>\n      <td>-0.107819</td>\n      <td>2.807874</td>\n      <td>-1.755762</td>\n      <td>4.563636</td>\n      <td>-0.573904</td>\n      <td>0.427180</td>\n      <td>running</td>\n    </tr>\n    <tr>\n      <th>4</th>\n      <td>0.602542</td>\n      <td>1.107749</td>\n      <td>0.370483</td>\n      <td>4.247423</td>\n      <td>-1.256636</td>\n      <td>5.504059</td>\n      <td>-0.257633</td>\n      <td>1.126358</td>\n      <td>0.549307</td>\n      <td>0.924195</td>\n      <td>...</td>\n      <td>1.143053</td>\n      <td>0.026804</td>\n      <td>1.045175</td>\n      <td>-0.136450</td>\n      <td>4.827353</td>\n      <td>-1.755762</td>\n      <td>6.583115</td>\n      <td>-0.642818</td>\n      <td>0.523393</td>\n      <td>running</td>\n    </tr>\n    <tr>\n      <th>...</th>\n      <td>...</td>\n      <td>...</td>\n      <td>...</td>\n      <td>...</td>\n      <td>...</td>\n      <td>...</td>\n      <td>...</td>\n      <td>...</td>\n      <td>...</td>\n      <td>...</td>\n      <td>...</td>\n      <td>...</td>\n      <td>...</td>\n      <td>...</td>\n      <td>...</td>\n      <td>...</td>\n      <td>...</td>\n      <td>...</td>\n      <td>...</td>\n      <td>...</td>\n      <td>...</td>\n    </tr>\n    <tr>\n      <th>1858</th>\n      <td>-0.412887</td>\n      <td>0.456655</td>\n      <td>-0.442222</td>\n      <td>0.846198</td>\n      <td>-1.565993</td>\n      <td>2.412192</td>\n      <td>-0.688625</td>\n      <td>-0.065922</td>\n      <td>-0.970137</td>\n      <td>0.442793</td>\n      <td>...</td>\n      <td>-0.677740</td>\n      <td>-0.558254</td>\n      <td>0.669643</td>\n      <td>-0.481353</td>\n      <td>1.503503</td>\n      <td>-3.898420</td>\n      <td>5.401923</td>\n      <td>-0.779814</td>\n      <td>-0.209858</td>\n      <td>stairs</td>\n    </tr>\n    <tr>\n      <th>1859</th>\n      <td>-0.410805</td>\n      <td>0.463398</td>\n      <td>-0.428264</td>\n      <td>0.846198</td>\n      <td>-1.565993</td>\n      <td>2.412192</td>\n      <td>-0.690904</td>\n      <td>-0.030600</td>\n      <td>-0.998431</td>\n      <td>0.461903</td>\n      <td>...</td>\n      <td>-0.680044</td>\n      <td>-0.546538</td>\n      <td>0.676565</td>\n      <td>-0.471365</td>\n      <td>1.503503</td>\n      <td>-3.402373</td>\n      <td>4.905876</td>\n      <td>-0.729710</td>\n      <td>-0.177066</td>\n      <td>stairs</td>\n    </tr>\n    <tr>\n      <th>1860</th>\n      <td>-0.436919</td>\n      <td>0.463782</td>\n      <td>-0.428264</td>\n      <td>0.770426</td>\n      <td>-1.565993</td>\n      <td>2.336419</td>\n      <td>-0.743319</td>\n      <td>-0.110930</td>\n      <td>-0.882478</td>\n      <td>0.392258</td>\n      <td>...</td>\n      <td>-0.654036</td>\n      <td>-0.508934</td>\n      <td>0.652899</td>\n      <td>-0.447728</td>\n      <td>1.553440</td>\n      <td>-3.898420</td>\n      <td>5.451861</td>\n      <td>-0.709901</td>\n      <td>-0.226837</td>\n      <td>stairs</td>\n    </tr>\n    <tr>\n      <th>1861</th>\n      <td>-0.324389</td>\n      <td>0.450124</td>\n      <td>-0.290107</td>\n      <td>0.770426</td>\n      <td>-1.565993</td>\n      <td>2.336419</td>\n      <td>-0.586646</td>\n      <td>0.066253</td>\n      <td>-0.951139</td>\n      <td>0.431782</td>\n      <td>...</td>\n      <td>-0.682059</td>\n      <td>-0.559035</td>\n      <td>0.795416</td>\n      <td>-0.458049</td>\n      <td>1.553440</td>\n      <td>-3.898420</td>\n      <td>5.451861</td>\n      <td>-0.778981</td>\n      <td>-0.182393</td>\n      <td>stairs</td>\n    </tr>\n    <tr>\n      <th>1862</th>\n      <td>-0.351264</td>\n      <td>0.448071</td>\n      <td>-0.358188</td>\n      <td>0.470753</td>\n      <td>-1.565993</td>\n      <td>2.036747</td>\n      <td>-0.613423</td>\n      <td>0.044318</td>\n      <td>-0.984409</td>\n      <td>0.442848</td>\n      <td>...</td>\n      <td>-0.719294</td>\n      <td>-0.573968</td>\n      <td>0.740208</td>\n      <td>-0.464041</td>\n      <td>1.003460</td>\n      <td>-3.402373</td>\n      <td>4.405833</td>\n      <td>-0.754345</td>\n      <td>-0.182393</td>\n      <td>stairs</td>\n    </tr>\n  </tbody>\n</table>\n<p>1863 rows × 25 columns</p>\n</div>"
     },
     "execution_count": 8,
     "metadata": {},
     "output_type": "execute_result"
    }
   ],
   "source": [
    "segment_length = 208\n",
    "step = 104\n",
    "segments = []\n",
    "labels = []\n",
    "\n",
    "for start_pos in range(0, len(normalised_data) - segment_length + 1, step):\n",
    "    segment = normalised_data.iloc[start_pos:start_pos + segment_length] # get the segment\n",
    "\n",
    "    features = {\n",
    "        'mean_X': segment['accelerometer_X'].mean(),\n",
    "        'std_X': segment['accelerometer_X'].std(),\n",
    "        'median_X': segment['accelerometer_X'].median(),\n",
    "        'max_X': segment['accelerometer_X'].max(),\n",
    "        'min_X': segment['accelerometer_X'].min(),\n",
    "        'range_X': segment['accelerometer_X'].max() - segment['accelerometer_X'].min(),\n",
    "        '25%_X': segment['accelerometer_X'].quantile(0.25),\n",
    "        '75%_X': segment['accelerometer_X'].quantile(0.75),\n",
    "        'mean_Y': segment['accelerometer_Y'].mean(),\n",
    "        'std_Y': segment['accelerometer_Y'].std(),\n",
    "        'median_Y': segment['accelerometer_Y'].median(),\n",
    "        'max_Y': segment['accelerometer_Y'].max(),\n",
    "        'min_Y': segment['accelerometer_Y'].min(),\n",
    "        'range_Y': segment['accelerometer_Y'].max() - segment['accelerometer_Y'].min(),\n",
    "        '25%_Y': segment['accelerometer_Y'].quantile(0.25),\n",
    "        '75%_Y': segment['accelerometer_Y'].quantile(0.75),\n",
    "        'mean_Z': segment['accelerometer_Z'].mean(),\n",
    "        'std_Z': segment['accelerometer_Z'].std(),\n",
    "        'median_Z': segment['accelerometer_Z'].median(),\n",
    "        'max_Z': segment['accelerometer_Z'].max(),\n",
    "        'min_Z': segment['accelerometer_Z'].min(),\n",
    "        'range_Z': segment['accelerometer_Z'].max() - segment['accelerometer_Z'].min(),\n",
    "        '25%_Z': segment['accelerometer_Z'].quantile(0.25),\n",
    "        '75%_Z': segment['accelerometer_Z'].quantile(0.75)\n",
    "    }\n",
    "\n",
    "    segments.append(features) # append the features to the segments list\n",
    "    labels.append(segment['type'].iloc[0]) # append the label to the labels list\n",
    "\n",
    "features_df = pd.DataFrame(segments) # create a dataframe from the segments list\n",
    "features_df['type'] = labels # add the labels to the dataframe\n",
    "\n",
    "features_df # display the dataframe"
   ],
   "metadata": {
    "collapsed": false,
    "ExecuteTime": {
     "end_time": "2024-03-27T17:15:42.660068Z",
     "start_time": "2024-03-27T17:15:40.521580Z"
    }
   },
   "id": "911649db13ef759b",
   "execution_count": 8
  },
  {
   "cell_type": "code",
   "outputs": [],
   "source": [
    "from sklearn.model_selection import train_test_split\n",
    "\n",
    "X_train, X_test, y_train, y_test = train_test_split(features_df.drop('type', axis=1), features_df['type'], test_size=0.3, random_state=42) # split the data into training and testing data"
   ],
   "metadata": {
    "collapsed": false,
    "ExecuteTime": {
     "end_time": "2024-03-27T17:15:45.818835Z",
     "start_time": "2024-03-27T17:15:45.806924Z"
    }
   },
   "id": "74610132c6ff7e6e",
   "execution_count": 9
  },
  {
   "cell_type": "code",
   "outputs": [
    {
     "name": "stdout",
     "output_type": "stream",
     "text": [
      "              precision    recall  f1-score   support\n",
      "\n",
      "        idle       1.00      1.00      1.00        83\n",
      "     running       1.00      1.00      1.00       295\n",
      "      stairs       1.00      1.00      1.00        14\n",
      "     walking       1.00      1.00      1.00       167\n",
      "\n",
      "    accuracy                           1.00       559\n",
      "   macro avg       1.00      1.00      1.00       559\n",
      "weighted avg       1.00      1.00      1.00       559\n"
     ]
    }
   ],
   "source": [
    "from sklearn.ensemble import RandomForestClassifier\n",
    "from sklearn.metrics import classification_report\n",
    "random_forest = RandomForestClassifier(n_estimators=100, random_state=42) # create a random forest classifier\n",
    "random_forest.fit(X_train, y_train) # fit the classifier\n",
    "y_pred = random_forest.predict(X_test) # predict the test data\n",
    "print(classification_report(y_test, y_pred))"
   ],
   "metadata": {
    "collapsed": false,
    "ExecuteTime": {
     "end_time": "2024-03-27T17:18:53.009291Z",
     "start_time": "2024-03-27T17:18:52.878733Z"
    }
   },
   "id": "35f3a4c8b34dd654",
   "execution_count": 15
  },
  {
   "cell_type": "code",
   "outputs": [
    {
     "name": "stdout",
     "output_type": "stream",
     "text": [
      "1.0\n",
      "1.0\n"
     ]
    }
   ],
   "source": [
    "print(random_forest.score(X_test, y_test))\n",
    "print(random_forest.score(X_train, y_train))"
   ],
   "metadata": {
    "collapsed": false,
    "ExecuteTime": {
     "end_time": "2024-03-27T17:19:07.222443Z",
     "start_time": "2024-03-27T17:19:07.180170Z"
    }
   },
   "id": "e2b2dcd792eda149",
   "execution_count": 16
  },
  {
   "cell_type": "code",
   "outputs": [
    {
     "name": "stdout",
     "output_type": "stream",
     "text": [
      "1.0\n",
      "1.0\n"
     ]
    },
    {
     "name": "stderr",
     "output_type": "stream",
     "text": [
      "/Library/Frameworks/Python.framework/Versions/3.11/lib/python3.11/site-packages/sklearn/svm/_classes.py:32: FutureWarning: The default value of `dual` will change from `True` to `'auto'` in 1.5. Set the value of `dual` explicitly to suppress the warning.\n",
      "  warnings.warn(\n",
      "/Library/Frameworks/Python.framework/Versions/3.11/lib/python3.11/site-packages/sklearn/svm/_base.py:1250: ConvergenceWarning: Liblinear failed to converge, increase the number of iterations.\n",
      "  warnings.warn(\n"
     ]
    }
   ],
   "source": [
    "from sklearn.svm import LinearSVC\n",
    "from sklearn.metrics import classification_report\n",
    "svc = LinearSVC(random_state=42) # create a linear support vector classifier\n",
    "svc.fit(X_train, y_train) # fit the classifier\n",
    "y_pred = svc.predict(X_test) # predict the test data\n",
    "print(svc.score(X_test, y_test)) # print the accuracy of the classifier\n",
    "print(svc.score(X_train, y_train)) # print the accuracy of the classifier"
   ],
   "metadata": {
    "collapsed": false,
    "ExecuteTime": {
     "end_time": "2024-03-27T17:19:11.019667Z",
     "start_time": "2024-03-27T17:19:10.980865Z"
    }
   },
   "id": "92fccf5d9f577b2d",
   "execution_count": 17
  },
  {
   "cell_type": "code",
   "outputs": [
    {
     "name": "stdout",
     "output_type": "stream",
     "text": [
      "              precision    recall  f1-score   support\n",
      "\n",
      "        idle       1.00      1.00      1.00        83\n",
      "     running       1.00      1.00      1.00       295\n",
      "      stairs       1.00      1.00      1.00        14\n",
      "     walking       1.00      1.00      1.00       167\n",
      "\n",
      "    accuracy                           1.00       559\n",
      "   macro avg       1.00      1.00      1.00       559\n",
      "weighted avg       1.00      1.00      1.00       559\n"
     ]
    }
   ],
   "source": [
    "print(classification_report(y_test, y_pred)) # print the classification report"
   ],
   "metadata": {
    "collapsed": false,
    "ExecuteTime": {
     "end_time": "2024-03-27T17:19:24.985325Z",
     "start_time": "2024-03-27T17:19:24.962078Z"
    }
   },
   "id": "f3ca5153ce35c004",
   "execution_count": 18
  },
  {
   "cell_type": "code",
   "outputs": [
    {
     "data": {
      "text/plain": "accelerometer_X    0\naccelerometer_Y    0\naccelerometer_Z    0\ntype               0\ndtype: int64"
     },
     "execution_count": 23,
     "metadata": {},
     "output_type": "execute_result"
    }
   ],
   "source": [
    "normalised_data.isnull().sum() # check for missing values"
   ],
   "metadata": {
    "collapsed": false,
    "ExecuteTime": {
     "end_time": "2024-03-27T17:22:34.436882Z",
     "start_time": "2024-03-27T17:22:34.420790Z"
    }
   },
   "id": "8d43b77f5ebbf864",
   "execution_count": 23
  },
  {
   "cell_type": "code",
   "outputs": [],
   "source": [
    "X_train, X_test, y_train, y_test = train_test_split(normalised_data.drop('type', axis=1), normalised_data['type'], test_size=0.3, random_state=42) # split the data into training and testing data"
   ],
   "metadata": {
    "collapsed": false,
    "ExecuteTime": {
     "end_time": "2024-03-27T17:24:15.279039Z",
     "start_time": "2024-03-27T17:24:15.232132Z"
    }
   },
   "id": "1531804de63ef84b",
   "execution_count": 26
  },
  {
   "cell_type": "code",
   "outputs": [
    {
     "name": "stderr",
     "output_type": "stream",
     "text": [
      "/Library/Frameworks/Python.framework/Versions/3.11/lib/python3.11/site-packages/sklearn/svm/_classes.py:32: FutureWarning: The default value of `dual` will change from `True` to `'auto'` in 1.5. Set the value of `dual` explicitly to suppress the warning.\n",
      "  warnings.warn(\n",
      "/Library/Frameworks/Python.framework/Versions/3.11/lib/python3.11/site-packages/sklearn/svm/_base.py:1250: ConvergenceWarning: Liblinear failed to converge, increase the number of iterations.\n",
      "  warnings.warn(\n"
     ]
    },
    {
     "name": "stdout",
     "output_type": "stream",
     "text": [
      "0.8050999002716737\n",
      "0.8029800592474687\n"
     ]
    }
   ],
   "source": [
    "svc2 = LinearSVC(random_state=42) # create a linear support vector classifier\n",
    "svc2.fit(X_train, y_train) # fit the classifier\n",
    "y_pred = svc2.predict(X_test) # predict the test data\n",
    "print(svc2.score(X_test, y_test)) # print the accuracy of the classifier\n",
    "print(svc2.score(X_train, y_train)) # print the accuracy of the classifier"
   ],
   "metadata": {
    "collapsed": false,
    "ExecuteTime": {
     "end_time": "2024-03-27T17:24:38.455584Z",
     "start_time": "2024-03-27T17:24:18.268467Z"
    }
   },
   "id": "2f2bfe9a10ac45d2",
   "execution_count": 27
  },
  {
   "cell_type": "code",
   "outputs": [
    {
     "name": "stderr",
     "output_type": "stream",
     "text": [
      "/Library/Frameworks/Python.framework/Versions/3.11/lib/python3.11/site-packages/sklearn/metrics/_classification.py:1471: UndefinedMetricWarning: Precision and F-score are ill-defined and being set to 0.0 in labels with no predicted samples. Use `zero_division` parameter to control this behavior.\n",
      "  _warn_prf(average, modifier, msg_start, len(result))\n",
      "/Library/Frameworks/Python.framework/Versions/3.11/lib/python3.11/site-packages/sklearn/metrics/_classification.py:1471: UndefinedMetricWarning: Precision and F-score are ill-defined and being set to 0.0 in labels with no predicted samples. Use `zero_division` parameter to control this behavior.\n",
      "  _warn_prf(average, modifier, msg_start, len(result))\n"
     ]
    },
    {
     "name": "stdout",
     "output_type": "stream",
     "text": [
      "              precision    recall  f1-score   support\n",
      "\n",
      "        idle       0.80      0.65      0.72      9275\n",
      "     running       0.82      0.87      0.85     30640\n",
      "      stairs       0.00      0.00      0.00      1396\n",
      "     walking       0.78      0.84      0.81     16847\n",
      "\n",
      "    accuracy                           0.81     58158\n",
      "   macro avg       0.60      0.59      0.59     58158\n",
      "weighted avg       0.79      0.81      0.79     58158\n"
     ]
    },
    {
     "name": "stderr",
     "output_type": "stream",
     "text": [
      "/Library/Frameworks/Python.framework/Versions/3.11/lib/python3.11/site-packages/sklearn/metrics/_classification.py:1471: UndefinedMetricWarning: Precision and F-score are ill-defined and being set to 0.0 in labels with no predicted samples. Use `zero_division` parameter to control this behavior.\n",
      "  _warn_prf(average, modifier, msg_start, len(result))\n"
     ]
    }
   ],
   "source": [
    "print(classification_report(y_test, y_pred)) # print the classification report"
   ],
   "metadata": {
    "collapsed": false,
    "ExecuteTime": {
     "end_time": "2024-03-27T17:24:49.722433Z",
     "start_time": "2024-03-27T17:24:48.603301Z"
    }
   },
   "id": "a806ae6bcc07115b",
   "execution_count": 28
  },
  {
   "cell_type": "code",
   "outputs": [
    {
     "name": "stdout",
     "output_type": "stream",
     "text": [
      "              precision    recall  f1-score   support\n",
      "\n",
      "        idle       1.00      1.00      1.00      9275\n",
      "     running       1.00      1.00      1.00     30640\n",
      "      stairs       1.00      0.99      0.99      1396\n",
      "     walking       1.00      1.00      1.00     16847\n",
      "\n",
      "    accuracy                           1.00     58158\n",
      "   macro avg       1.00      1.00      1.00     58158\n",
      "weighted avg       1.00      1.00      1.00     58158\n"
     ]
    }
   ],
   "source": [
    "random_forest2 = RandomForestClassifier(n_estimators=100, random_state=42) # create a random forest classifier\n",
    "random_forest2.fit(X_train, y_train) # fit the classifier\n",
    "y_pred = random_forest2.predict(X_test) # predict the test data\n",
    "print(classification_report(y_test, y_pred))"
   ],
   "metadata": {
    "collapsed": false,
    "ExecuteTime": {
     "end_time": "2024-03-27T17:26:02.631058Z",
     "start_time": "2024-03-27T17:25:54.376343Z"
    }
   },
   "id": "ff35909bb8194088",
   "execution_count": 31
  },
  {
   "cell_type": "code",
   "outputs": [
    {
     "name": "stdout",
     "output_type": "stream",
     "text": [
      "0.9996561092197118\n",
      "1.0\n"
     ]
    }
   ],
   "source": [
    "print(random_forest.score(X_test, y_test))\n",
    "print(random_forest.score(X_train, y_train))"
   ],
   "metadata": {
    "collapsed": false,
    "ExecuteTime": {
     "end_time": "2024-03-27T17:26:15.088377Z",
     "start_time": "2024-03-27T17:26:13.236229Z"
    }
   },
   "id": "e19082cb9d8e54f9",
   "execution_count": 32
  }
 ],
 "metadata": {
  "kernelspec": {
   "display_name": "Python 3",
   "language": "python",
   "name": "python3"
  },
  "language_info": {
   "codemirror_mode": {
    "name": "ipython",
    "version": 2
   },
   "file_extension": ".py",
   "mimetype": "text/x-python",
   "name": "python",
   "nbconvert_exporter": "python",
   "pygments_lexer": "ipython2",
   "version": "2.7.6"
  }
 },
 "nbformat": 4,
 "nbformat_minor": 5
}
